{
 "cells": [
  {
   "cell_type": "code",
   "execution_count": 2,
   "metadata": {},
   "outputs": [],
   "source": [
    "import os"
   ]
  },
  {
   "cell_type": "code",
   "execution_count": 14,
   "metadata": {},
   "outputs": [
    {
     "data": {
      "text/plain": [
       "[['Rhinoceros',\n",
       "  '88.37529599999999',\n",
       "  '447.04080000000005',\n",
       "  '491.1872',\n",
       "  '643.02135'],\n",
       " ['Rhinoceros',\n",
       "  '422.02419199999997',\n",
       "  '358.0166',\n",
       "  '902.3242240000001',\n",
       "  '650.707075'],\n",
       " ['Rhinoceros', '847.249408', '331.757825', '1023.36', '490.59155']]"
      ]
     },
     "execution_count": 14,
     "metadata": {},
     "output_type": "execute_result"
    }
   ],
   "source": [
    "path = 'OID/Dataset/train/Rhinoceros/Label/0d19ed5eb73709da.txt'\n",
    "with open(path, 'r') as f:\n",
    "    result = f.readlines()\n",
    "    label = []\n",
    "    for line in result:\n",
    "        line = line.rstrip('\\n')\n",
    "        feat = line.split()\n",
    "        if len(feat) != 5: print('[Error]', path); label.append([])\n",
    "        label.append(feat)\n",
    "label"
   ]
  },
  {
   "cell_type": "code",
   "execution_count": null,
   "metadata": {},
   "outputs": [],
   "source": []
  }
 ],
 "metadata": {
  "kernelspec": {
   "display_name": "vision",
   "language": "python",
   "name": "vision"
  },
  "language_info": {
   "codemirror_mode": {
    "name": "ipython",
    "version": 3
   },
   "file_extension": ".py",
   "mimetype": "text/x-python",
   "name": "python",
   "nbconvert_exporter": "python",
   "pygments_lexer": "ipython3",
   "version": "3.6.9"
  }
 },
 "nbformat": 4,
 "nbformat_minor": 4
}
